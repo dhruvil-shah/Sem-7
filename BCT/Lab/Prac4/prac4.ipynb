{
 "cells": [
  {
   "cell_type": "code",
   "execution_count": 3,
   "metadata": {},
   "outputs": [],
   "source": [
    "from collections import Counter"
   ]
  },
  {
   "cell_type": "code",
   "execution_count": 4,
   "metadata": {},
   "outputs": [],
   "source": [
    "class General:\n",
    "  def __init__(self, id, is_traitor=False):\n",
    "    self.id = id\n",
    "    self.other_generals = []\n",
    "    self.orders = []\n",
    "    self.is_traitor = is_traitor\n",
    "  def __call__(self, m, order):\n",
    "    self.om_algorithm(commander=self, m=m, order=order)\n",
    "  def _next_order(self, is_traitor, order, i):\n",
    "    if is_traitor:\n",
    "      if i%2==0:\n",
    "        return \"Attack\" if order==\"Retreat\" else \"Retreat\"\n",
    "    return order\n",
    "  def om_algorithm(self, commander, m, order):\n",
    "    if m<0:\n",
    "      self.orders.append(order)\n",
    "    elif m==0:\n",
    "      for i, l in enumerate(self.other_generals):\n",
    "        l.om_algorithm(commander=self, m=(m-1), order=self._next_order(self.is_traitor, order, i))\n",
    "    else:\n",
    "      for i, l in enumerate(self.other_generals):\n",
    "        if i is not self and l is not commander:\n",
    "          l.om_algorithm(commander=self, m=(m-1), order=self._next_order(self.is_traitor, order, i))\n",
    "  \n",
    "  def decision(self):\n",
    "    c = Counter(self.orders)\n",
    "    return (c.most_common())\n",
    "\n",
    "def init_generals(generals_spec):\n",
    "  generals = []\n",
    "  for i, spec in enumerate(generals_spec):\n",
    "    #print(i,spec)\n",
    "    general = General(i)\n",
    "    if spec == \"l\":\n",
    "      pass\n",
    "    elif spec == \"t\":\n",
    "      general.is_traitor = True\n",
    "    else:\n",
    "      print(\"Incorrect input\")\n",
    "      exit(1)\n",
    "    generals.append(general)\n",
    "  \n",
    "  for general in generals:\n",
    "    general.other_generals = generals\n",
    "  return generals\n",
    "\n",
    "def print_decision(generals):\n",
    "  for i, l in enumerate(generals):\n",
    "    print(\"General {}: {}\".format(i, l.decision()))"
   ]
  },
  {
   "cell_type": "code",
   "execution_count": 5,
   "metadata": {},
   "outputs": [
    {
     "name": "stdout",
     "output_type": "stream",
     "text": [
      "['l', 'l', 'l']\n",
      "General 0: [('Attack', 1)]\n",
      "General 1: [('Attack', 1)]\n",
      "General 2: [('Attack', 1)]\n"
     ]
    }
   ],
   "source": [
    "m = 0\n",
    "g = \"l, l, l\"\n",
    "o = \"Attack\"\n",
    "\n",
    "generals_spec = [x.strip() for x in g.split(',')]\n",
    "print(generals_spec)\n",
    "generals = init_generals(generals_spec=generals_spec)\n",
    "generals[0](m=m, order=o)\n",
    "print_decision(generals)\n"
   ]
  },
  {
   "cell_type": "code",
   "execution_count": 6,
   "metadata": {},
   "outputs": [
    {
     "name": "stdout",
     "output_type": "stream",
     "text": [
      "['l', 'l', 't', 't', 'l', 'l']\n",
      "General 0: [('Attack', 15), ('Retreat', 10)]\n",
      "General 1: [('Attack', 21), ('Retreat', 4)]\n",
      "General 2: [('Attack', 15), ('Retreat', 10)]\n",
      "General 3: [('Attack', 21), ('Retreat', 4)]\n",
      "General 4: [('Attack', 15), ('Retreat', 10)]\n",
      "General 5: [('Attack', 21), ('Retreat', 4)]\n"
     ]
    }
   ],
   "source": [
    "m = 2\n",
    "g = \"l, l, t, t, l, l\"\n",
    "o = \"Attack\"\n",
    "generals_spec = [x.strip() for x in g.split(',')]\n",
    "print(generals_spec)\n",
    "generals = init_generals(generals_spec=generals_spec)\n",
    "generals[0](m=m, order=o)\n",
    "print_decision(generals)"
   ]
  },
  {
   "cell_type": "code",
   "execution_count": null,
   "metadata": {},
   "outputs": [],
   "source": []
  }
 ],
 "metadata": {
  "kernelspec": {
   "display_name": "Python 3.10.8 64-bit (microsoft store)",
   "language": "python",
   "name": "python3"
  },
  "language_info": {
   "codemirror_mode": {
    "name": "ipython",
    "version": 3
   },
   "file_extension": ".py",
   "mimetype": "text/x-python",
   "name": "python",
   "nbconvert_exporter": "python",
   "pygments_lexer": "ipython3",
   "version": "3.10.8"
  },
  "orig_nbformat": 4,
  "vscode": {
   "interpreter": {
    "hash": "58dbfdb34cf82127b32c5737e6183911655ff227e5c11e8f5e4b25048ae98ef2"
   }
  }
 },
 "nbformat": 4,
 "nbformat_minor": 2
}
